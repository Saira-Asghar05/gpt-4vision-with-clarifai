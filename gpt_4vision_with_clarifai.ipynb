{
  "cells": [
    {
      "cell_type": "markdown",
      "id": "1c9dafe5",
      "metadata": {
        "id": "1c9dafe5"
      },
      "source": [
        "<td>\n",
        "   <a target=\"_blank\" href=\"https://www.clarifai.com/\" ><img src=\"https://upload.wikimedia.org/wikipedia/commons/b/bc/Clarifai_Logo_FC_Web.png\" width=256/></a>\n",
        "</td>"
      ]
    },
    {
      "cell_type": "markdown",
      "id": "b4889a76",
      "metadata": {
        "id": "b4889a76"
      },
      "source": [
        "<td>\n",
        "<a href=\"https://colab.research.google.com/github/Clarifai/examples/blob/main/datasets/upload/input_upload.ipynb\" target=\"_blank\"><img\n",
        "src=\"https://colab.research.google.com/assets/colab-badge.svg\" alt=\"Colab\"></a>\n",
        "</td>"
      ]
    },
    {
      "cell_type": "markdown",
      "id": "5aac5f5c",
      "metadata": {
        "id": "5aac5f5c"
      },
      "source": [
        "# Input Upload\n",
        "\n",
        "Inputs are basically data in Clarifai App. Clarifai App supports unstructured data that includes Image, Text, Video and Audio types. These inputs then can be used for Annotation, Model Training , Model Prediction and for Workflow Predictions.\n",
        "\n",
        "This notebook consists of\n",
        "- Upload data with metadata\n",
        "- Upload data with geoinfo\n",
        "- Upload image bounding box annotation\n",
        "- Upload image polygon points annotation\n",
        "- Upload text with annotation\n",
        "- Custom functions"
      ]
    },
    {
      "cell_type": "markdown",
      "id": "222c4a80",
      "metadata": {
        "id": "222c4a80"
      },
      "source": [
        "## Requirements"
      ]
    },
    {
      "cell_type": "code",
      "execution_count": null,
      "id": "bb036d1e",
      "metadata": {
        "id": "bb036d1e",
        "outputId": "e9ffa5d8-11a2-4601-b2d6-af846d10b6de",
        "colab": {
          "base_uri": "https://localhost:8080/",
          "height": 965
        }
      },
      "outputs": [
        {
          "output_type": "stream",
          "name": "stdout",
          "text": [
            "Collecting clarifai\n",
            "  Downloading clarifai-9.11.1-py3-none-any.whl (193 kB)\n",
            "\u001b[2K     \u001b[90m━━━━━━━━━━━━━━━━━━━━━━━━━━━━━━━━━━━━━━━━\u001b[0m \u001b[32m193.5/193.5 kB\u001b[0m \u001b[31m2.3 MB/s\u001b[0m eta \u001b[36m0:00:00\u001b[0m\n",
            "\u001b[?25hCollecting clarifai-grpc~=9.11.5 (from clarifai)\n",
            "  Downloading clarifai_grpc-9.11.5-py3-none-any.whl (224 kB)\n",
            "\u001b[2K     \u001b[90m━━━━━━━━━━━━━━━━━━━━━━━━━━━━━━━━━━━━━━━━\u001b[0m \u001b[32m224.4/224.4 kB\u001b[0m \u001b[31m6.3 MB/s\u001b[0m eta \u001b[36m0:00:00\u001b[0m\n",
            "\u001b[?25hRequirement already satisfied: pandas>=1.3.5 in /usr/local/lib/python3.10/dist-packages (from clarifai) (1.5.3)\n",
            "Requirement already satisfied: numpy>=1.22.0 in /usr/local/lib/python3.10/dist-packages (from clarifai) (1.23.5)\n",
            "Requirement already satisfied: tqdm>=4.65.0 in /usr/local/lib/python3.10/dist-packages (from clarifai) (4.66.1)\n",
            "Requirement already satisfied: opencv-python>=4.7.0.68 in /usr/local/lib/python3.10/dist-packages (from clarifai) (4.8.0.76)\n",
            "Collecting tritonclient>=2.34.0 (from clarifai)\n",
            "  Downloading tritonclient-2.41.0-py3-none-manylinux1_x86_64.whl (12.4 MB)\n",
            "\u001b[2K     \u001b[90m━━━━━━━━━━━━━━━━━━━━━━━━━━━━━━━━━━━━━━━━\u001b[0m \u001b[32m12.4/12.4 MB\u001b[0m \u001b[31m27.9 MB/s\u001b[0m eta \u001b[36m0:00:00\u001b[0m\n",
            "\u001b[?25hRequirement already satisfied: rich>=13.4.2 in /usr/local/lib/python3.10/dist-packages (from clarifai) (13.7.0)\n",
            "Requirement already satisfied: PyYAML>=6.0.1 in /usr/local/lib/python3.10/dist-packages (from clarifai) (6.0.1)\n",
            "Collecting schema>=0.7.5 (from clarifai)\n",
            "  Downloading schema-0.7.5-py2.py3-none-any.whl (17 kB)\n",
            "Collecting Pillow>=9.5.0 (from clarifai)\n",
            "  Downloading pillow-10.2.0-cp310-cp310-manylinux_2_28_x86_64.whl (4.5 MB)\n",
            "\u001b[2K     \u001b[90m━━━━━━━━━━━━━━━━━━━━━━━━━━━━━━━━━━━━━━━━\u001b[0m \u001b[32m4.5/4.5 MB\u001b[0m \u001b[31m24.3 MB/s\u001b[0m eta \u001b[36m0:00:00\u001b[0m\n",
            "\u001b[?25hRequirement already satisfied: grpcio>=1.44.0 in /usr/local/lib/python3.10/dist-packages (from clarifai-grpc~=9.11.5->clarifai) (1.60.0)\n",
            "Requirement already satisfied: protobuf>=3.20.3 in /usr/local/lib/python3.10/dist-packages (from clarifai-grpc~=9.11.5->clarifai) (3.20.3)\n",
            "Requirement already satisfied: googleapis-common-protos>=1.53.0 in /usr/local/lib/python3.10/dist-packages (from clarifai-grpc~=9.11.5->clarifai) (1.62.0)\n",
            "Requirement already satisfied: requests>=2.25.1 in /usr/local/lib/python3.10/dist-packages (from clarifai-grpc~=9.11.5->clarifai) (2.31.0)\n",
            "Requirement already satisfied: python-dateutil>=2.8.1 in /usr/local/lib/python3.10/dist-packages (from pandas>=1.3.5->clarifai) (2.8.2)\n",
            "Requirement already satisfied: pytz>=2020.1 in /usr/local/lib/python3.10/dist-packages (from pandas>=1.3.5->clarifai) (2023.3.post1)\n",
            "Requirement already satisfied: markdown-it-py>=2.2.0 in /usr/local/lib/python3.10/dist-packages (from rich>=13.4.2->clarifai) (3.0.0)\n",
            "Requirement already satisfied: pygments<3.0.0,>=2.13.0 in /usr/local/lib/python3.10/dist-packages (from rich>=13.4.2->clarifai) (2.16.1)\n",
            "Requirement already satisfied: contextlib2>=0.5.5 in /usr/local/lib/python3.10/dist-packages (from schema>=0.7.5->clarifai) (21.6.0)\n",
            "Collecting python-rapidjson>=0.9.1 (from tritonclient>=2.34.0->clarifai)\n",
            "  Downloading python_rapidjson-1.14-cp310-cp310-manylinux_2_17_x86_64.manylinux2014_x86_64.whl (1.7 MB)\n",
            "\u001b[2K     \u001b[90m━━━━━━━━━━━━━━━━━━━━━━━━━━━━━━━━━━━━━━━━\u001b[0m \u001b[32m1.7/1.7 MB\u001b[0m \u001b[31m17.7 MB/s\u001b[0m eta \u001b[36m0:00:00\u001b[0m\n",
            "\u001b[?25hRequirement already satisfied: mdurl~=0.1 in /usr/local/lib/python3.10/dist-packages (from markdown-it-py>=2.2.0->rich>=13.4.2->clarifai) (0.1.2)\n",
            "Requirement already satisfied: six>=1.5 in /usr/local/lib/python3.10/dist-packages (from python-dateutil>=2.8.1->pandas>=1.3.5->clarifai) (1.16.0)\n",
            "Requirement already satisfied: charset-normalizer<4,>=2 in /usr/local/lib/python3.10/dist-packages (from requests>=2.25.1->clarifai-grpc~=9.11.5->clarifai) (3.3.2)\n",
            "Requirement already satisfied: idna<4,>=2.5 in /usr/local/lib/python3.10/dist-packages (from requests>=2.25.1->clarifai-grpc~=9.11.5->clarifai) (3.6)\n",
            "Requirement already satisfied: urllib3<3,>=1.21.1 in /usr/local/lib/python3.10/dist-packages (from requests>=2.25.1->clarifai-grpc~=9.11.5->clarifai) (2.0.7)\n",
            "Requirement already satisfied: certifi>=2017.4.17 in /usr/local/lib/python3.10/dist-packages (from requests>=2.25.1->clarifai-grpc~=9.11.5->clarifai) (2023.11.17)\n",
            "Installing collected packages: schema, python-rapidjson, Pillow, tritonclient, clarifai-grpc, clarifai\n",
            "  Attempting uninstall: Pillow\n",
            "    Found existing installation: Pillow 9.4.0\n",
            "    Uninstalling Pillow-9.4.0:\n",
            "      Successfully uninstalled Pillow-9.4.0\n",
            "\u001b[31mERROR: pip's dependency resolver does not currently take into account all the packages that are installed. This behaviour is the source of the following dependency conflicts.\n",
            "imageio 2.31.6 requires pillow<10.1.0,>=8.3.2, but you have pillow 10.2.0 which is incompatible.\u001b[0m\u001b[31m\n",
            "\u001b[0mSuccessfully installed Pillow-10.2.0 clarifai-9.11.1 clarifai-grpc-9.11.5 python-rapidjson-1.14 schema-0.7.5 tritonclient-2.41.0\n"
          ]
        },
        {
          "output_type": "display_data",
          "data": {
            "application/vnd.colab-display-data+json": {
              "pip_warning": {
                "packages": [
                  "PIL"
                ]
              }
            }
          },
          "metadata": {}
        }
      ],
      "source": [
        "!pip install -U clarifai"
      ]
    },
    {
      "cell_type": "code",
      "source": [
        "%env CLARIFAI_PAT="
      ],
      "metadata": {
        "id": "Z0oS-iDAP3H6",
        "outputId": "eb21a1d6-a811-4b57-e303-fadbad540450",
        "colab": {
          "base_uri": "https://localhost:8080/"
        }
      },
      "id": "Z0oS-iDAP3H6",
      "execution_count": null,
      "outputs": [
        {
          "output_type": "stream",
          "name": "stdout",
          "text": [
            "env: CLARIFAI_PAT=\n"
          ]
        }
      ]
    },
    {
      "cell_type": "code",
      "source": [
        "#Note: CLARIFAI_PAT should be set as an environment variable\n",
        "\n",
        "from clarifai.client.model import Model\n",
        "from clarifai.client.input import Inputs\n",
        "\n",
        "prompt = \"which recipie i can make with the ingredients in the image?\"\n",
        "image_url = \"https://img.freepik.com/free-vector/raw-vegetables-with-sliced-isolated-realistic-icons-with-pepper-eggplant-garlic-mushroom-courgette_1284-16241.jpg?size=626&ext=jpg&uid=R102095931&ga=GA1.1.726670498.1704293359&semt=sph.jpg\"\n",
        "\n",
        "inference_params = dict(temperature=0.2, max_tokens=100)\n",
        "\n",
        "inputs = [Inputs.get_multimodal_input(input_id=\"\",image_url=image_url, raw_text=prompt)]\n",
        "\n",
        "model_prediction = Model(\"https://clarifai.com/openai/chat-completion/models/openai-gpt-4-vision\").predict(inputs,inference_params=inference_params)\n",
        "\n",
        "print(model_prediction.outputs[0].data.text.raw)"
      ],
      "metadata": {
        "id": "FF0DnUbPlLS4",
        "outputId": "40d56e81-4dd0-4aac-9bc7-9a7a2556363b",
        "colab": {
          "base_uri": "https://localhost:8080/"
        }
      },
      "id": "FF0DnUbPlLS4",
      "execution_count": null,
      "outputs": [
        {
          "output_type": "stream",
          "name": "stdout",
          "text": [
            "Based on the ingredients in the image, which includes tomato, eggplant, orange bell pepper, zucchini, red chili pepper, mushrooms, garlic, red onion, and white onion, you could make a delicious ratatouille. Ratatouille is a traditional French Provençal stewed vegetable dish that is perfect for showcasing these vegetables. Here's a simple recipe you could follow:\n",
            "\n",
            "Ingredients:\n",
            "- Tomatoes\n",
            "- Eggplant\n",
            "- Orange bell pepper\n",
            "- Zucchini\n",
            "- Red chili pepper (optional for heat)\n",
            "- Mushrooms\n",
            "- Garlic cloves\n",
            "- Red onion\n",
            "- White onion\n",
            "- Olive oil\n",
            "- Salt and pepper (not in the image)\n",
            "- Herbs such as thyme or basil (not in the image)\n",
            "\n",
            "Instructions:\n",
            "1. Prepare the vegetables by washing them and cutting them into bite-sized pieces. Dice the onions and mince the garlic cloves.\n",
            "2. In a large pan or pot, heat some olive oil over medium heat.\n",
            "3. Add the minced garlic and diced onions, sautéing until they're translucent and fragrant.\n",
            "4. Add the harder vegetables first, like eggplant and bell peppers, and cook for a few minutes until they start to soften.\n",
            "5. Add the zucchini and mushrooms and continue to cook, stirring occasionally.\n",
            "6. Chop the tomatoes and add them to the pan. If you like some heat, you can add the red chili pepper, either whole or diced.\n",
            "7. Season with salt, pepper, and any other herbs you have available.\n",
            "8. Cover the pan and let it simmer on low heat for about 20-30 minutes, or until all vegetables are tender.\n",
            "9. Taste and adjust the seasoning as needed.\n",
            "\n",
            "Serve the ratatouille as a main dish with crusty bread, as a side dish, or over a bed of cooked rice or pasta for a heartier meal. Enjoy your homemade ratatouille!\n"
          ]
        }
      ]
    },
    {
      "cell_type": "code",
      "source": [
        "from google.colab import drive\n",
        "drive.mount('/content/drive')"
      ],
      "metadata": {
        "id": "XG-ZnUcBQesz",
        "outputId": "651e144b-feca-454f-9882-4cf8978f6c7f",
        "colab": {
          "base_uri": "https://localhost:8080/"
        }
      },
      "id": "XG-ZnUcBQesz",
      "execution_count": null,
      "outputs": [
        {
          "output_type": "stream",
          "name": "stdout",
          "text": [
            "Mounted at /content/drive\n"
          ]
        }
      ]
    },
    {
      "cell_type": "markdown",
      "id": "e275697f",
      "metadata": {
        "id": "e275697f"
      },
      "source": [
        "*Note: Guide to get your [PAT](https://docs.clarifai.com/clarifai-basics/authentication/personal-access-tokens)*"
      ]
    },
    {
      "cell_type": "markdown",
      "id": "e83d01c6",
      "metadata": {
        "id": "e83d01c6"
      },
      "source": [
        "**Website**: [https://www.clarifai.com](https://www.clarifai.com/)\n",
        "\n",
        "**Demo**: [https://clarifai.com/demo](https://clarifai.com/demo)\n",
        "\n",
        "**Sign up for a free Account**: [https://clarifai.com/signup](https://clarifai.com/signup)\n",
        "\n",
        "**Developer Guide**: [https://docs.clarifai.com](https://docs.clarifai.com/)\n",
        "\n",
        "**Clarifai Community**: [https://clarifai.com/explore](https://clarifai.com/explore)\n",
        "\n",
        "**Python SDK Docs**: [https://docs.clarifai.com/python-sdk/api-reference](https://docs.clarifai.com/python-sdk/api-reference)\n",
        "\n",
        "---"
      ]
    }
  ],
  "metadata": {
    "kernelspec": {
      "display_name": "Python 3 (ipykernel)",
      "language": "python",
      "name": "python3"
    },
    "language_info": {
      "codemirror_mode": {
        "name": "ipython",
        "version": 3
      },
      "file_extension": ".py",
      "mimetype": "text/x-python",
      "name": "python",
      "nbconvert_exporter": "python",
      "pygments_lexer": "ipython3",
      "version": "3.9.10"
    },
    "colab": {
      "provenance": []
    }
  },
  "nbformat": 4,
  "nbformat_minor": 5
}